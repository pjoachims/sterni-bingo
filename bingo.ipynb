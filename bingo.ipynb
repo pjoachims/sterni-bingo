{
 "cells": [
  {
   "cell_type": "markdown",
   "metadata": {},
   "source": [
    "# Simulating Sternburg Bingo via Monte Carlo"
   ]
  },
  {
   "cell_type": "code",
   "execution_count": 101,
   "metadata": {},
   "outputs": [],
   "source": [
    "import numpy as np\n",
    "import matplotlib.pyplot as plt"
   ]
  },
  {
   "cell_type": "code",
   "execution_count": 90,
   "metadata": {},
   "outputs": [],
   "source": [
    "def generate_unique_int(low, high, num):\n",
    "    rnd_ints = []\n",
    "    for _ in range(num):\n",
    "        while True:\n",
    "            rnd_num = np.random.randint(low, high)\n",
    "            if rnd_num not in rnd_ints:\n",
    "                rnd_ints.append(rnd_num)\n",
    "                break\n",
    "    return np.array(rnd_ints)\n",
    "\n",
    "def generate_bingo_matrix():\n",
    "    return generate_unique_int(0, 100, 25).reshape(5, 5)\n",
    "\n",
    "def simulate_game():\n",
    "    play_field = generate_bingo_matrix()\n",
    "    success_field = np.zeros((5,5))\n",
    "    for i in range(10000):\n",
    "        drawn_number = np.random.randint(0, 100)\n",
    "        success_field = np.where(play_field == drawn_number, 1, success_field)\n",
    "        if bingo(success_field):\n",
    "            return i, play_field, success_field\n",
    "    \n",
    "def bingo(sf):\n",
    "    if np.any(sf.sum(axis=0) == 5):\n",
    "        return True\n",
    "    elif np.any(sf.sum(axis=1) == 5):\n",
    "        return True\n",
    "    elif (sf[0, 0] + sf[1,1] + sf[2,2] + sf[3,3] + sf[4,4] == 5):\n",
    "        return True\n",
    "    elif (sf[0, 4] + sf[1,3] + sf[2,2] + sf[3,1] + sf[4,0] == 5):\n",
    "        return True\n",
    "    return False"
   ]
  },
  {
   "cell_type": "code",
   "execution_count": 110,
   "metadata": {},
   "outputs": [
    {
     "name": "stdout",
     "output_type": "stream",
     "text": [
      "CPU times: user 6 µs, sys: 0 ns, total: 6 µs\n",
      "Wall time: 10.5 µs\n"
     ]
    }
   ],
   "source": [
    "%time\n",
    "GAMES = 5000\n",
    "results = []\n",
    "for _ in range(GAMES):\n",
    "    draws_needed, _, _ = simulate_game()\n",
    "    results.append(draws_needed)"
   ]
  },
  {
   "cell_type": "code",
   "execution_count": 111,
   "metadata": {},
   "outputs": [
    {
     "data": {
      "text/plain": [
       "Text(0, 0.5, 'P(Bier_notwendig)')"
      ]
     },
     "execution_count": 111,
     "metadata": {},
     "output_type": "execute_result"
    },
    {
     "data": {
      "image/png": "[encoded data removed]",
      "text/plain": [
       "<Figure size 432x288 with 1 Axes>"
      ]
     },
     "metadata": {
      "needs_background": "light"
     },
     "output_type": "display_data"
    }
   ],
   "source": [
    "_ = plt.hist(results, bins = 50, density=True)\n",
    "plt.xlabel(\"Bier_notwendig\")\n",
    "plt.ylabel(\"P(Bier_notwendig)\")"
   ]
  },
  {
   "cell_type": "code",
   "execution_count": 113,
   "metadata": {},
   "outputs": [
    {
     "data": {
      "text/plain": [
       "89.3332"
      ]
     },
     "execution_count": 113,
     "metadata": {},
     "output_type": "execute_result"
    }
   ],
   "source": [
    "np.mean(results)"
   ]
  },
  {
   "cell_type": "code",
   "execution_count": null,
   "metadata": {},
   "outputs": [],
   "source": []
  },
  {
   "cell_type": "markdown",
   "metadata": {},
   "source": [
    "On average about 90 beers must be opened to reach bingo!"
   ]
  }
 ],
 "metadata": {
  "kernelspec": {
   "display_name": "Python 3",
   "language": "python",
   "name": "python3"
  },
  "language_info": {
   "codemirror_mode": {
    "name": "ipython",
    "version": 3
   },
   "file_extension": ".py",
   "mimetype": "text/x-python",
   "name": "python",
   "nbconvert_exporter": "python",
   "pygments_lexer": "ipython3",
   "version": "3.7.6"
  }
 },
 "nbformat": 4,
 "nbformat_minor": 4
}
